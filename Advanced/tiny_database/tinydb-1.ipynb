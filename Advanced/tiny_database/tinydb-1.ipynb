{
 "cells": [
  {
   "cell_type": "markdown",
   "metadata": {},
   "source": [
    "# Tiny database\n"
   ]
  },
  {
   "cell_type": "code",
   "execution_count": 1,
   "metadata": {},
   "outputs": [],
   "source": [
    "# importing the library\n",
    "\n",
    "from tinydb import TinyDB, Query"
   ]
  },
  {
   "cell_type": "markdown",
   "metadata": {},
   "source": [
    "# Connecting to the database and adding data to the database"
   ]
  },
  {
   "cell_type": "code",
   "execution_count": 15,
   "metadata": {},
   "outputs": [
    {
     "data": {
      "text/plain": [
       "17"
      ]
     },
     "execution_count": 15,
     "metadata": {},
     "output_type": "execute_result"
    }
   ],
   "source": [
    "#* Creating the database\n",
    "db = TinyDB(\"students.json\")\n",
    "\n",
    "# insert into the database\n",
    "db.insert({'Name': 'Daniel', 'Age': 20, 'Gender': 'male'})\n",
    "db.insert({'Name': 'Joy', 'Age': 22, 'Gender': 'female'})\n",
    "db.insert({'Name': 'James', 'Age': 20, 'Gender': 'male'})\n",
    "db.insert({'Name': 'Dan', 'Age': 19, 'Gender': 'male'})\n",
    "db.insert({'Name': 'Angel', 'Age': 23, 'Gender': 'female'})\n",
    "db.insert({'Name': 'John', 'Age': 17, 'Gender': 'male'})\n",
    "db.insert({'Name': 'Wisdom', 'Age': 25, 'Gender': 'male'})\n",
    "db.insert({'Name': 'Ava', 'Age': 21, 'Gender': 'female'})\n",
    "\n"
   ]
  },
  {
   "cell_type": "markdown",
   "metadata": {},
   "source": [
    "# Get all data in database"
   ]
  },
  {
   "cell_type": "code",
   "execution_count": 16,
   "metadata": {},
   "outputs": [
    {
     "data": {
      "text/plain": [
       "[{'Name': 'Daniel', 'Age': 20, 'Gender': 'male'},\n",
       " {'Name': 'Daniel', 'Age': 20, 'Gender': 'male'},\n",
       " {'Name': 'Joy', 'Age': 22, 'Gender': 'female'},\n",
       " {'Name': 'James', 'Age': 20, 'Gender': 'male'},\n",
       " {'Name': 'Dan', 'Age': 19, 'Gender': 'male'},\n",
       " {'Name': 'Angel', 'Age': 23, 'Gender': 'female'},\n",
       " {'Name': 'John', 'Age': 17, 'Gender': 'male'},\n",
       " {'Name': 'Wisdom', 'Age': 25, 'Gender': 'male'},\n",
       " {'Name': 'Ava', 'Age': 21, 'Gender': 'female'},\n",
       " {'Name': 'Daniel', 'Age': 20, 'Gender': 'male'},\n",
       " {'Name': 'Joy', 'Age': 22, 'Gender': 'female'},\n",
       " {'Name': 'James', 'Age': 20, 'Gender': 'male'},\n",
       " {'Name': 'Dan', 'Age': 19, 'Gender': 'male'},\n",
       " {'Name': 'Angel', 'Age': 23, 'Gender': 'female'},\n",
       " {'Name': 'John', 'Age': 17, 'Gender': 'male'},\n",
       " {'Name': 'Wisdom', 'Age': 25, 'Gender': 'male'},\n",
       " {'Name': 'Ava', 'Age': 21, 'Gender': 'female'}]"
      ]
     },
     "execution_count": 16,
     "metadata": {},
     "output_type": "execute_result"
    }
   ],
   "source": [
    "db.all()"
   ]
  },
  {
   "cell_type": "markdown",
   "metadata": {},
   "source": [
    "# Ilterate the database"
   ]
  },
  {
   "cell_type": "code",
   "execution_count": 17,
   "metadata": {},
   "outputs": [
    {
     "name": "stdout",
     "output_type": "stream",
     "text": [
      "{'Name': 'Daniel', 'Age': 20, 'Gender': 'male'}\n",
      "{'Name': 'Daniel', 'Age': 20, 'Gender': 'male'}\n",
      "{'Name': 'Joy', 'Age': 22, 'Gender': 'female'}\n",
      "{'Name': 'James', 'Age': 20, 'Gender': 'male'}\n",
      "{'Name': 'Dan', 'Age': 19, 'Gender': 'male'}\n",
      "{'Name': 'Angel', 'Age': 23, 'Gender': 'female'}\n",
      "{'Name': 'John', 'Age': 17, 'Gender': 'male'}\n",
      "{'Name': 'Wisdom', 'Age': 25, 'Gender': 'male'}\n",
      "{'Name': 'Ava', 'Age': 21, 'Gender': 'female'}\n",
      "{'Name': 'Daniel', 'Age': 20, 'Gender': 'male'}\n",
      "{'Name': 'Joy', 'Age': 22, 'Gender': 'female'}\n",
      "{'Name': 'James', 'Age': 20, 'Gender': 'male'}\n",
      "{'Name': 'Dan', 'Age': 19, 'Gender': 'male'}\n",
      "{'Name': 'Angel', 'Age': 23, 'Gender': 'female'}\n",
      "{'Name': 'John', 'Age': 17, 'Gender': 'male'}\n",
      "{'Name': 'Wisdom', 'Age': 25, 'Gender': 'male'}\n",
      "{'Name': 'Ava', 'Age': 21, 'Gender': 'female'}\n"
     ]
    }
   ],
   "source": [
    "for students in db :\n",
    "   print(students)"
   ]
  },
  {
   "cell_type": "markdown",
   "metadata": {},
   "source": [
    "# Query\n",
    "\n",
    "Of course you’ll also want to search for specific documents. Let’s try:"
   ]
  },
  {
   "cell_type": "code",
   "execution_count": 18,
   "metadata": {},
   "outputs": [
    {
     "data": {
      "text/plain": [
       "[{'Name': 'Daniel', 'Age': 20, 'Gender': 'male'},\n",
       " {'Name': 'Daniel', 'Age': 20, 'Gender': 'male'},\n",
       " {'Name': 'James', 'Age': 20, 'Gender': 'male'},\n",
       " {'Name': 'Daniel', 'Age': 20, 'Gender': 'male'},\n",
       " {'Name': 'James', 'Age': 20, 'Gender': 'male'}]"
      ]
     },
     "execution_count": 18,
     "metadata": {},
     "output_type": "execute_result"
    }
   ],
   "source": [
    "Students = Query()\n",
    "\n",
    "db.search(Students.Age == 20)\n"
   ]
  },
  {
   "cell_type": "code",
   "execution_count": 13,
   "metadata": {},
   "outputs": [
    {
     "data": {
      "text/plain": [
       "[{'Name': 'Dan', 'Age': 19, 'Gender': 'male'},\n",
       " {'Name': 'John', 'Age': 17, 'Gender': 'male'}]"
      ]
     },
     "execution_count": 13,
     "metadata": {},
     "output_type": "execute_result"
    }
   ],
   "source": [
    "Age_filter = Query()\n",
    "\n",
    "db.search(Age_filter.Age < 20)"
   ]
  },
  {
   "cell_type": "markdown",
   "metadata": {},
   "source": [
    "# Update data"
   ]
  },
  {
   "cell_type": "code",
   "execution_count": 19,
   "metadata": {},
   "outputs": [
    {
     "data": {
      "text/plain": [
       "[{'Name': 'Daniel', 'Age': 20, 'Gender': 'male'},\n",
       " {'Name': 'Daniel', 'Age': 20, 'Gender': 'male'},\n",
       " {'Name': 'Joy', 'Age': 22, 'Gender': 'female'},\n",
       " {'Name': 'James', 'Age': 20, 'Gender': 'male'},\n",
       " {'Name': 'Danny', 'Age': 19, 'Gender': 'male'},\n",
       " {'Name': 'Angel', 'Age': 23, 'Gender': 'female'},\n",
       " {'Name': 'John', 'Age': 17, 'Gender': 'male'},\n",
       " {'Name': 'Wisdom', 'Age': 25, 'Gender': 'male'},\n",
       " {'Name': 'Ava', 'Age': 21, 'Gender': 'female'},\n",
       " {'Name': 'Daniel', 'Age': 20, 'Gender': 'male'},\n",
       " {'Name': 'Joy', 'Age': 22, 'Gender': 'female'},\n",
       " {'Name': 'James', 'Age': 20, 'Gender': 'male'},\n",
       " {'Name': 'Danny', 'Age': 19, 'Gender': 'male'},\n",
       " {'Name': 'Angel', 'Age': 23, 'Gender': 'female'},\n",
       " {'Name': 'John', 'Age': 17, 'Gender': 'male'},\n",
       " {'Name': 'Wisdom', 'Age': 25, 'Gender': 'male'},\n",
       " {'Name': 'Ava', 'Age': 21, 'Gender': 'female'}]"
      ]
     },
     "execution_count": 19,
     "metadata": {},
     "output_type": "execute_result"
    }
   ],
   "source": [
    "db.update({'Name': 'Danny'}, Students.Name == 'Dan')\n",
    "\n",
    "db.all()"
   ]
  },
  {
   "cell_type": "markdown",
   "metadata": {},
   "source": [
    "# Removing data from the database"
   ]
  },
  {
   "cell_type": "code",
   "execution_count": 20,
   "metadata": {},
   "outputs": [
    {
     "data": {
      "text/plain": [
       "[{'Name': 'Daniel', 'Age': 20, 'Gender': 'male'},\n",
       " {'Name': 'Daniel', 'Age': 20, 'Gender': 'male'},\n",
       " {'Name': 'Joy', 'Age': 22, 'Gender': 'female'},\n",
       " {'Name': 'James', 'Age': 20, 'Gender': 'male'},\n",
       " {'Name': 'Angel', 'Age': 23, 'Gender': 'female'},\n",
       " {'Name': 'Wisdom', 'Age': 25, 'Gender': 'male'},\n",
       " {'Name': 'Ava', 'Age': 21, 'Gender': 'female'},\n",
       " {'Name': 'Daniel', 'Age': 20, 'Gender': 'male'},\n",
       " {'Name': 'Joy', 'Age': 22, 'Gender': 'female'},\n",
       " {'Name': 'James', 'Age': 20, 'Gender': 'male'},\n",
       " {'Name': 'Angel', 'Age': 23, 'Gender': 'female'},\n",
       " {'Name': 'Wisdom', 'Age': 25, 'Gender': 'male'},\n",
       " {'Name': 'Ava', 'Age': 21, 'Gender': 'female'}]"
      ]
     },
     "execution_count": 20,
     "metadata": {},
     "output_type": "execute_result"
    }
   ],
   "source": [
    "db.remove(Students.Age < 20)\n",
    "\n",
    "db.all()"
   ]
  },
  {
   "cell_type": "markdown",
   "metadata": {},
   "source": [
    "And of course you can throw away all data to start with an empty database:\n",
    "\n",
    " db.truncate()\n",
    " \n",
    " db.all()\n",
    " \n",
    "[]"
   ]
  }
 ],
 "metadata": {
  "kernelspec": {
   "display_name": "Python 3.10.6 64-bit",
   "language": "python",
   "name": "python3"
  },
  "language_info": {
   "codemirror_mode": {
    "name": "ipython",
    "version": 3
   },
   "file_extension": ".py",
   "mimetype": "text/x-python",
   "name": "python",
   "nbconvert_exporter": "python",
   "pygments_lexer": "ipython3",
   "version": "3.10.6"
  },
  "orig_nbformat": 4,
  "vscode": {
   "interpreter": {
    "hash": "aee8b7b246df8f9039afb4144a1f6fd8d2ca17a180786b69acc140d282b71a49"
   }
  }
 },
 "nbformat": 4,
 "nbformat_minor": 2
}
