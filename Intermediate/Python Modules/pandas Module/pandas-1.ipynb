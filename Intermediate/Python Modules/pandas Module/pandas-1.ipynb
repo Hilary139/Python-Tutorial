{
 "cells": [
  {
   "cell_type": "markdown",
   "metadata": {},
   "source": [
    "# Pandas Module\n",
    "\n",
    "Pandas is used to analyze data."
   ]
  },
  {
   "cell_type": "code",
   "execution_count": 1,
   "metadata": {},
   "outputs": [],
   "source": [
    "#* Importing the pandas library\n",
    "import pandas as pd"
   ]
  },
  {
   "cell_type": "markdown",
   "metadata": {},
   "source": [
    "# Overview of how to use pandas dataframes"
   ]
  },
  {
   "cell_type": "code",
   "execution_count": 4,
   "metadata": {},
   "outputs": [
    {
     "name": "stdout",
     "output_type": "stream",
     "text": [
      "        Countries        Capital Country code\n",
      "0          Canada         Ottawa           +1\n",
      "1   United States  Washington DC           +1\n",
      "2  United Kingdom        England          +44\n",
      "3         Nigeria          Abuja         +234\n"
     ]
    }
   ],
   "source": [
    "#Simple example \n",
    "country = [\"Canada\", \"United States\", \"United Kingdom\", \"Nigeria\"]\n",
    "\n",
    "country_code = [\"+1\", \"+1\", \"+44\", \"+234\"]\n",
    "\n",
    "country_capital = [\"Ottawa\", \"Washington DC\", \"England\", \"Abuja\"]\n",
    "\n",
    "titled_country = {\"Countries\": country, \"Capital\": country_capital, \"Country code\": country_code}\n",
    "\n",
    "data = pd.DataFrame(titled_country)\n",
    "\n",
    "print(data)"
   ]
  },
  {
   "cell_type": "markdown",
   "metadata": {},
   "source": [
    "# Selecting columns in data frame"
   ]
  },
  {
   "cell_type": "code",
   "execution_count": 9,
   "metadata": {},
   "outputs": [
    {
     "name": "stdout",
     "output_type": "stream",
     "text": [
      "0           Ottawa\n",
      "1    Washington DC\n",
      "2          England\n",
      "3            Abuja\n",
      "Name: Capital, dtype: object\n"
     ]
    }
   ],
   "source": [
    "country = [\"Canada\", \"United States\", \"United Kingdom\", \"Nigeria\"]\n",
    "\n",
    "country_code = [\"+1\", \"+1\", \"+44\", \"+234\"]\n",
    "\n",
    "country_capital = [\"Ottawa\", \"Washington DC\", \"England\", \"Abuja\"]\n",
    "\n",
    "titled_country = {\"Countries\": country, \"Capital\": country_capital, \"Country code\": country_code}\n",
    "\n",
    "data = pd.DataFrame(titled_country)\n",
    "\n",
    "#Selecting column\n",
    "select_capitals = data[\"Capital\"]\n",
    "\n",
    "print(select_capitals)"
   ]
  },
  {
   "cell_type": "markdown",
   "metadata": {},
   "source": [
    "# selecting value in a data frame"
   ]
  },
  {
   "cell_type": "code",
   "execution_count": 8,
   "metadata": {},
   "outputs": [
    {
     "name": "stdout",
     "output_type": "stream",
     "text": [
      "+234\n"
     ]
    }
   ],
   "source": [
    "country = [\"Canada\", \"United States\", \"United Kingdom\", \"Nigeria\"]\n",
    "\n",
    "country_code = [\"+1\", \"+1\", \"+44\", \"+234\"]\n",
    "\n",
    "country_capital = [\"Ottawa\", \"Washington DC\", \"England\", \"Abuja\"]\n",
    "\n",
    "titled_country = {\"Countries\": country, \"Capital\": country_capital, \"Country code\": country_code}\n",
    "\n",
    "data = pd.DataFrame(titled_country)\n",
    "\n",
    "#Selecting the value based on its index\n",
    "select_code = data[\"Country code\"][3]\n",
    "\n",
    "print(select_code)"
   ]
  },
  {
   "cell_type": "markdown",
   "metadata": {},
   "source": [
    "# Selecting row in the data frame\n",
    "\n",
    "we perforn this by using the 'iloc' function"
   ]
  },
  {
   "cell_type": "code",
   "execution_count": 10,
   "metadata": {},
   "outputs": [
    {
     "name": "stdout",
     "output_type": "stream",
     "text": [
      "Countries       Canada\n",
      "Capital         Ottawa\n",
      "Country code        +1\n",
      "Name: 0, dtype: object\n"
     ]
    }
   ],
   "source": [
    "country = [\"Canada\", \"United States\", \"United Kingdom\", \"Nigeria\"]\n",
    "\n",
    "country_code = [\"+1\", \"+1\", \"+44\", \"+234\"]\n",
    "\n",
    "country_capital = [\"Ottawa\", \"Washington DC\", \"England\", \"Abuja\"]\n",
    "\n",
    "titled_country = {\"Countries\": country, \"Capital\": country_capital, \"Country code\": country_code}\n",
    "\n",
    "data = pd.DataFrame(titled_country)\n",
    "\n",
    "#Selecting row\n",
    "select_row = data.iloc[0]\n",
    "\n",
    "print(select_row)"
   ]
  },
  {
   "cell_type": "markdown",
   "metadata": {},
   "source": [
    "# Selecting value from a row"
   ]
  },
  {
   "cell_type": "code",
   "execution_count": 12,
   "metadata": {},
   "outputs": [
    {
     "name": "stdout",
     "output_type": "stream",
     "text": [
      "Canada\n"
     ]
    }
   ],
   "source": [
    "country = [\"Canada\", \"United States\", \"United Kingdom\", \"Nigeria\"]\n",
    "\n",
    "country_code = [\"+1\", \"+1\", \"+44\", \"+234\"]\n",
    "\n",
    "country_capital = [\"Ottawa\", \"Washington DC\", \"England\", \"Abuja\"]\n",
    "\n",
    "titled_country = {\"Countries\": country, \"Capital\": country_capital, \"Country code\": country_code}\n",
    "\n",
    "data = pd.DataFrame(titled_country)\n",
    "\n",
    "#Selecting row\n",
    "select_row = data.iloc[0][\"Countries\"]\n",
    "\n",
    "print(select_row)"
   ]
  },
  {
   "cell_type": "markdown",
   "metadata": {},
   "source": [
    "# Manipulating DataFrame"
   ]
  },
  {
   "cell_type": "code",
   "execution_count": null,
   "metadata": {},
   "outputs": [],
   "source": []
  }
 ],
 "metadata": {
  "kernelspec": {
   "display_name": "Python 3.10.6 64-bit",
   "language": "python",
   "name": "python3"
  },
  "language_info": {
   "codemirror_mode": {
    "name": "ipython",
    "version": 3
   },
   "file_extension": ".py",
   "mimetype": "text/x-python",
   "name": "python",
   "nbconvert_exporter": "python",
   "pygments_lexer": "ipython3",
   "version": "3.10.6"
  },
  "orig_nbformat": 4,
  "vscode": {
   "interpreter": {
    "hash": "aee8b7b246df8f9039afb4144a1f6fd8d2ca17a180786b69acc140d282b71a49"
   }
  }
 },
 "nbformat": 4,
 "nbformat_minor": 2
}
