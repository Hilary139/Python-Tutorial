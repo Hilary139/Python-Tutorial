{
 "cells": [
  {
   "cell_type": "markdown",
   "metadata": {},
   "source": [
    "# Saving DataFrame to csvs file"
   ]
  },
  {
   "cell_type": "code",
   "execution_count": 1,
   "metadata": {},
   "outputs": [],
   "source": [
    "import pandas as pd"
   ]
  },
  {
   "cell_type": "code",
   "execution_count": 5,
   "metadata": {},
   "outputs": [
    {
     "name": "stdout",
     "output_type": "stream",
     "text": [
      "        Countries        Capital Country code\n",
      "0          Canada         Ottawa           +1\n",
      "1   United States  Washington DC           +1\n",
      "2  United Kingdom        England          +44\n",
      "3         Nigeria          Abuja         +234\n"
     ]
    }
   ],
   "source": [
    "country = [\"Canada\", \"United States\", \"United Kingdom\", \"Nigeria\"]\n",
    "\n",
    "country_code = [\"+1\", \"+1\", \"+44\", \"+234\"]\n",
    "\n",
    "country_capital = [\"Ottawa\", \"Washington DC\", \"England\", \"Abuja\"]\n",
    "\n",
    "titled_country = {\"Countries\": country, \"Capital\": country_capital, \"Country code\": country_code}\n",
    "\n",
    "data = pd.DataFrame(titled_country)\n",
    "\n",
    "# saving to csv file\n",
    "data.to_csv('country.csv', sep = '\\t') #! The \\t' is to remove the commas (tab character)\n",
    "\n",
    "# You can also save to other file formats as well using the same 'to_csv' function\n",
    "data.to_csv('country.txt', sep = '\\t')\n",
    "print(data)"
   ]
  },
  {
   "cell_type": "markdown",
   "metadata": {},
   "source": [
    "# Loading datafram from a file\n",
    "\n",
    "using the 'pd.read_csv'"
   ]
  },
  {
   "cell_type": "code",
   "execution_count": 10,
   "metadata": {},
   "outputs": [
    {
     "name": "stderr",
     "output_type": "stream",
     "text": [
      "/var/folders/_b/b5vxkg2j1yd42bbznfsnslvw0000gn/T/ipykernel_8724/1551166181.py:1: DtypeWarning: Columns (25) have mixed types. Specify dtype option on import or set low_memory=False.\n",
      "  airbnb_data = pd.read_csv(\"airbnb-data.csv\")\n"
     ]
    },
    {
     "name": "stdout",
     "output_type": "stream",
     "text": [
      "             id                                              NAME  \\\n",
      "0       1001254                Clean & quiet apt home by the park   \n",
      "1       1002102                             Skylit Midtown Castle   \n",
      "2       1002403               THE VILLAGE OF HARLEM....NEW YORK !   \n",
      "3       1002755                                               NaN   \n",
      "4       1003689  Entire Apt: Spacious Studio/Loft by central park   \n",
      "...         ...                                               ...   \n",
      "102594  6092437                        Spare room in Williamsburg   \n",
      "102595  6092990                     Best Location near Columbia U   \n",
      "102596  6093542                    Comfy, bright room in Brooklyn   \n",
      "102597  6094094                  Big Studio-One Stop from Midtown   \n",
      "102598  6094647                              585 sf Luxury Studio   \n",
      "\n",
      "            host id host_identity_verified    host name neighbourhood group  \\\n",
      "0       80014485718            unconfirmed     Madaline            Brooklyn   \n",
      "1       52335172823               verified        Jenna           Manhattan   \n",
      "2       78829239556                    NaN        Elise           Manhattan   \n",
      "3       85098326012            unconfirmed        Garry            Brooklyn   \n",
      "4       92037596077               verified       Lyndon           Manhattan   \n",
      "...             ...                    ...          ...                 ...   \n",
      "102594  12312296767               verified         Krik            Brooklyn   \n",
      "102595  77864383453            unconfirmed        Mifan           Manhattan   \n",
      "102596  69050334417            unconfirmed        Megan            Brooklyn   \n",
      "102597  11160591270            unconfirmed  Christopher              Queens   \n",
      "102598  68170633372            unconfirmed      Rebecca           Manhattan   \n",
      "\n",
      "              neighbourhood       lat      long        country  ...  \\\n",
      "0                Kensington  40.64749 -73.97237  United States  ...   \n",
      "1                   Midtown  40.75362 -73.98377  United States  ...   \n",
      "2                    Harlem  40.80902 -73.94190  United States  ...   \n",
      "3              Clinton Hill  40.68514 -73.95976  United States  ...   \n",
      "4               East Harlem  40.79851 -73.94399  United States  ...   \n",
      "...                     ...       ...       ...            ...  ...   \n",
      "102594         Williamsburg  40.70862 -73.94651  United States  ...   \n",
      "102595  Morningside Heights  40.80460 -73.96545  United States  ...   \n",
      "102596           Park Slope  40.67505 -73.98045  United States  ...   \n",
      "102597     Long Island City  40.74989 -73.93777  United States  ...   \n",
      "102598      Upper West Side  40.76807 -73.98342  United States  ...   \n",
      "\n",
      "       service fee minimum nights number of reviews last review  \\\n",
      "0            $193            10.0               9.0  10/19/2021   \n",
      "1             $28            30.0              45.0   5/21/2022   \n",
      "2            $124             3.0               0.0         NaN   \n",
      "3             $74            30.0             270.0  07/05/2019   \n",
      "4             $41            10.0               9.0  11/19/2018   \n",
      "...            ...            ...               ...         ...   \n",
      "102594       $169             1.0               0.0         NaN   \n",
      "102595       $167             1.0               1.0  07/06/2015   \n",
      "102596       $198             3.0               0.0         NaN   \n",
      "102597       $109             2.0               5.0  10/11/2015   \n",
      "102598       $206             1.0               0.0         NaN   \n",
      "\n",
      "        reviews per month review rate number calculated host listings count  \\\n",
      "0                    0.21                4.0                            6.0   \n",
      "1                    0.38                4.0                            2.0   \n",
      "2                     NaN                5.0                            1.0   \n",
      "3                    4.64                4.0                            1.0   \n",
      "4                    0.10                3.0                            1.0   \n",
      "...                   ...                ...                            ...   \n",
      "102594                NaN                3.0                            1.0   \n",
      "102595               0.02                2.0                            2.0   \n",
      "102596                NaN                5.0                            1.0   \n",
      "102597               0.10                3.0                            1.0   \n",
      "102598                NaN                3.0                            1.0   \n",
      "\n",
      "        availability 365                                        house_rules  \\\n",
      "0                  286.0  Clean up and treat the home the way you'd like...   \n",
      "1                  228.0  Pet friendly but please confirm with me if the...   \n",
      "2                  352.0  I encourage you to use my kitchen, cooking and...   \n",
      "3                  322.0                                                NaN   \n",
      "4                  289.0  Please no smoking in the house, porch or on th...   \n",
      "...                  ...                                                ...   \n",
      "102594             227.0  No Smoking No Parties or Events of any kind Pl...   \n",
      "102595             395.0  House rules: Guests agree to the following ter...   \n",
      "102596             342.0                                                NaN   \n",
      "102597             386.0                                                NaN   \n",
      "102598              69.0                                                NaN   \n",
      "\n",
      "       license  \n",
      "0          NaN  \n",
      "1          NaN  \n",
      "2          NaN  \n",
      "3          NaN  \n",
      "4          NaN  \n",
      "...        ...  \n",
      "102594     NaN  \n",
      "102595     NaN  \n",
      "102596     NaN  \n",
      "102597     NaN  \n",
      "102598     NaN  \n",
      "\n",
      "[102599 rows x 26 columns]\n"
     ]
    }
   ],
   "source": [
    "airbnb_data = pd.read_csv(\"airbnb-data.csv\")\n",
    "\n",
    "print(airbnb_data)\n",
    "\n"
   ]
  },
  {
   "cell_type": "markdown",
   "metadata": {},
   "source": [
    "# HEAD METHOD\n",
    "One of the most used method for getting a quick overview of the DataFrame, is the head() method.\n",
    "\n",
    "The head() method returns the headers and a specified number of rows, starting from the top.\n",
    "\n",
    "\n"
   ]
  },
  {
   "cell_type": "code",
   "execution_count": 13,
   "metadata": {},
   "outputs": [
    {
     "name": "stderr",
     "output_type": "stream",
     "text": [
      "/var/folders/_b/b5vxkg2j1yd42bbznfsnslvw0000gn/T/ipykernel_8724/4027116886.py:1: DtypeWarning: Columns (25) have mixed types. Specify dtype option on import or set low_memory=False.\n",
      "  airbnb_data = pd.read_csv(\"airbnb-data.csv\")\n"
     ]
    },
    {
     "name": "stdout",
     "output_type": "stream",
     "text": [
      "        id                                              NAME      host id  \\\n",
      "0  1001254                Clean & quiet apt home by the park  80014485718   \n",
      "1  1002102                             Skylit Midtown Castle  52335172823   \n",
      "2  1002403               THE VILLAGE OF HARLEM....NEW YORK !  78829239556   \n",
      "3  1002755                                               NaN  85098326012   \n",
      "4  1003689  Entire Apt: Spacious Studio/Loft by central park  92037596077   \n",
      "\n",
      "  host_identity_verified host name neighbourhood group neighbourhood  \\\n",
      "0            unconfirmed  Madaline            Brooklyn    Kensington   \n",
      "1               verified     Jenna           Manhattan       Midtown   \n",
      "2                    NaN     Elise           Manhattan        Harlem   \n",
      "3            unconfirmed     Garry            Brooklyn  Clinton Hill   \n",
      "4               verified    Lyndon           Manhattan   East Harlem   \n",
      "\n",
      "        lat      long        country  ... service fee minimum nights  \\\n",
      "0  40.64749 -73.97237  United States  ...       $193            10.0   \n",
      "1  40.75362 -73.98377  United States  ...        $28            30.0   \n",
      "2  40.80902 -73.94190  United States  ...       $124             3.0   \n",
      "3  40.68514 -73.95976  United States  ...        $74            30.0   \n",
      "4  40.79851 -73.94399  United States  ...        $41            10.0   \n",
      "\n",
      "  number of reviews last review  reviews per month review rate number  \\\n",
      "0               9.0  10/19/2021               0.21                4.0   \n",
      "1              45.0   5/21/2022               0.38                4.0   \n",
      "2               0.0         NaN                NaN                5.0   \n",
      "3             270.0  07/05/2019               4.64                4.0   \n",
      "4               9.0  11/19/2018               0.10                3.0   \n",
      "\n",
      "  calculated host listings count  availability 365  \\\n",
      "0                            6.0             286.0   \n",
      "1                            2.0             228.0   \n",
      "2                            1.0             352.0   \n",
      "3                            1.0             322.0   \n",
      "4                            1.0             289.0   \n",
      "\n",
      "                                         house_rules license  \n",
      "0  Clean up and treat the home the way you'd like...     NaN  \n",
      "1  Pet friendly but please confirm with me if the...     NaN  \n",
      "2  I encourage you to use my kitchen, cooking and...     NaN  \n",
      "3                                                NaN     NaN  \n",
      "4  Please no smoking in the house, porch or on th...     NaN  \n",
      "\n",
      "[5 rows x 26 columns]\n"
     ]
    }
   ],
   "source": [
    "airbnb_data = pd.read_csv(\"airbnb-data.csv\")\n",
    "\n",
    "print(airbnb_data.head()) # This prints out only the first five columns in the data frame"
   ]
  },
  {
   "cell_type": "code",
   "execution_count": 14,
   "metadata": {},
   "outputs": [
    {
     "name": "stderr",
     "output_type": "stream",
     "text": [
      "/var/folders/_b/b5vxkg2j1yd42bbznfsnslvw0000gn/T/ipykernel_8724/2538172277.py:1: DtypeWarning: Columns (25) have mixed types. Specify dtype option on import or set low_memory=False.\n",
      "  airbnb_data = pd.read_csv(\"airbnb-data.csv\")\n"
     ]
    },
    {
     "name": "stdout",
     "output_type": "stream",
     "text": [
      "        id                                NAME      host id  \\\n",
      "0  1001254  Clean & quiet apt home by the park  80014485718   \n",
      "1  1002102               Skylit Midtown Castle  52335172823   \n",
      "\n",
      "  host_identity_verified host name neighbourhood group neighbourhood  \\\n",
      "0            unconfirmed  Madaline            Brooklyn    Kensington   \n",
      "1               verified     Jenna           Manhattan       Midtown   \n",
      "\n",
      "        lat      long        country  ... service fee minimum nights  \\\n",
      "0  40.64749 -73.97237  United States  ...       $193            10.0   \n",
      "1  40.75362 -73.98377  United States  ...        $28            30.0   \n",
      "\n",
      "  number of reviews last review  reviews per month review rate number  \\\n",
      "0               9.0  10/19/2021               0.21                4.0   \n",
      "1              45.0   5/21/2022               0.38                4.0   \n",
      "\n",
      "  calculated host listings count  availability 365  \\\n",
      "0                            6.0             286.0   \n",
      "1                            2.0             228.0   \n",
      "\n",
      "                                         house_rules license  \n",
      "0  Clean up and treat the home the way you'd like...     NaN  \n",
      "1  Pet friendly but please confirm with me if the...     NaN  \n",
      "\n",
      "[2 rows x 26 columns]\n"
     ]
    }
   ],
   "source": [
    "airbnb_data = pd.read_csv(\"airbnb-data.csv\")\n",
    "\n",
    "print(airbnb_data.head(2)) # you can also specify the number you want inside the head parentheses"
   ]
  },
  {
   "cell_type": "markdown",
   "metadata": {},
   "source": [
    "# TAIL METHOD\n",
    "There is also a tail() method for viewing the last rows of the DataFrame.\n",
    "\n",
    "The tail() method returns the headers and a specified number of rows, starting from the bottom."
   ]
  },
  {
   "cell_type": "code",
   "execution_count": 19,
   "metadata": {},
   "outputs": [
    {
     "name": "stdout",
     "output_type": "stream",
     "text": [
      "   Unnamed: 0       Countries  Capital  Country code\n",
      "2           2  United Kingdom  England            44\n",
      "3           3         Nigeria    Abuja           234\n"
     ]
    }
   ],
   "source": [
    "data = pd.read_csv('country.csv',  sep='\\t')\n",
    "\n",
    "print(data.tail(2))"
   ]
  },
  {
   "cell_type": "markdown",
   "metadata": {},
   "source": [
    "# Filter dataframes"
   ]
  },
  {
   "cell_type": "code",
   "execution_count": 21,
   "metadata": {},
   "outputs": [
    {
     "name": "stdout",
     "output_type": "stream",
     "text": [
      "   Unnamed: 0 Countries Capital  Country code\n",
      "0           0    Canada  Ottawa             1\n"
     ]
    }
   ],
   "source": [
    "data = pd.read_csv('country.csv',  sep='\\t')\n",
    "\n",
    "# filtering dataframes\n",
    "filtered_row = data[ data[\"Countries\"] == \"Canada\" ] \n",
    "\n",
    "print(filtered_row)"
   ]
  },
  {
   "cell_type": "markdown",
   "metadata": {},
   "source": [
    "# Replacing data"
   ]
  },
  {
   "cell_type": "code",
   "execution_count": 22,
   "metadata": {},
   "outputs": [
    {
     "name": "stdout",
     "output_type": "stream",
     "text": [
      "   Unnamed: 0       Countries        Capital  Country code\n",
      "0           0          Canada         Ottawa             1\n",
      "1           1   United States  Washington DC             1\n",
      "2           2  United Kingdom         London            44\n",
      "3           3         Nigeria          Abuja           234\n"
     ]
    }
   ],
   "source": [
    "data = pd.read_csv('country.csv',  sep='\\t')\n",
    "\n",
    "filtered_row = data[ data[\"Capital\"] == \"England\" ] \n",
    "\n",
    "#replacing data\n",
    "replaced_row = data.replace(\"England\", \"London\")\n",
    "\n",
    "print(replaced_row)"
   ]
  },
  {
   "cell_type": "markdown",
   "metadata": {},
   "source": [
    "# Remove column\n",
    "\n",
    "axis = 1 >> column while axis = 0 >> rows"
   ]
  },
  {
   "cell_type": "code",
   "execution_count": 26,
   "metadata": {},
   "outputs": [
    {
     "name": "stdout",
     "output_type": "stream",
     "text": [
      "   Unnamed: 0       Countries        Capital\n",
      "0           0          Canada         Ottawa\n",
      "1           1   United States  Washington DC\n",
      "2           2  United Kingdom        England\n",
      "3           3         Nigeria          Abuja\n"
     ]
    }
   ],
   "source": [
    "data = pd.read_csv('country.csv',  sep='\\t')\n",
    "\n",
    "#removing columns\n",
    "remove_column = data.drop(\"Country code\", axis = 1)\n",
    "\n",
    "print(remove_column)"
   ]
  },
  {
   "cell_type": "markdown",
   "metadata": {},
   "source": [
    "Removing more than one column"
   ]
  },
  {
   "cell_type": "code",
   "execution_count": 27,
   "metadata": {},
   "outputs": [
    {
     "name": "stdout",
     "output_type": "stream",
     "text": [
      "   Unnamed: 0       Countries\n",
      "0           0          Canada\n",
      "1           1   United States\n",
      "2           2  United Kingdom\n",
      "3           3         Nigeria\n"
     ]
    }
   ],
   "source": [
    "data = pd.read_csv('country.csv',  sep='\\t')\n",
    "\n",
    "#removing columns\n",
    "remove_column = data.drop([\"Country code\", \"Capital\"], axis = 1)\n",
    "\n",
    "print(remove_column)"
   ]
  },
  {
   "cell_type": "markdown",
   "metadata": {},
   "source": [
    "# Remove Rows\n",
    "\n",
    "axis = 1 >> column while axis = 0 >> rows"
   ]
  },
  {
   "cell_type": "code",
   "execution_count": 29,
   "metadata": {},
   "outputs": [
    {
     "name": "stdout",
     "output_type": "stream",
     "text": [
      "   Unnamed: 0       Countries        Capital\n",
      "1           1   United States  Washington DC\n",
      "2           2  United Kingdom        England\n"
     ]
    }
   ],
   "source": [
    "data = pd.read_csv('country.csv',  sep='\\t')\n",
    "\n",
    "#removing rows\n",
    "remove_row = data.iloc[1:3].drop(\"Country code\", axis = 1)\n",
    "\n",
    "print(remove_row)"
   ]
  },
  {
   "cell_type": "markdown",
   "metadata": {},
   "source": [
    "# Add new rows"
   ]
  },
  {
   "cell_type": "code",
   "execution_count": 33,
   "metadata": {},
   "outputs": [
    {
     "name": "stderr",
     "output_type": "stream",
     "text": [
      "/var/folders/_b/b5vxkg2j1yd42bbznfsnslvw0000gn/T/ipykernel_8724/637952614.py:6: FutureWarning: The frame.append method is deprecated and will be removed from pandas in a future version. Use pandas.concat instead.\n",
      "  new_row = data.append(add_row, ignore_index=True)\n"
     ]
    },
    {
     "name": "stdout",
     "output_type": "stream",
     "text": [
      "   Unnamed: 0       Countries        Capital Country code\n",
      "0         0.0          Canada         Ottawa            1\n",
      "1         1.0   United States  Washington DC            1\n",
      "2         2.0  United Kingdom        England           44\n",
      "3         3.0         Nigeria          Abuja          234\n",
      "4         NaN           Ghana          Accra         +233\n"
     ]
    }
   ],
   "source": [
    "data = pd.read_csv('country.csv',  sep='\\t')\n",
    "\n",
    "#ading rows\n",
    "add_row = {\"Countries\": \"Ghana\",\n",
    "          \"Capital\": \"Accra\",\n",
    "          \"Country code\": \"+233\"\n",
    "          }\n",
    "\n",
    "new_row = data.append(add_row, ignore_index=True)\n",
    "\n",
    "print(new_row)"
   ]
  },
  {
   "cell_type": "markdown",
   "metadata": {},
   "source": [
    "# Removing duplicates"
   ]
  },
  {
   "cell_type": "code",
   "execution_count": 34,
   "metadata": {},
   "outputs": [
    {
     "data": {
      "text/html": [
       "<div>\n",
       "<style scoped>\n",
       "    .dataframe tbody tr th:only-of-type {\n",
       "        vertical-align: middle;\n",
       "    }\n",
       "\n",
       "    .dataframe tbody tr th {\n",
       "        vertical-align: top;\n",
       "    }\n",
       "\n",
       "    .dataframe thead th {\n",
       "        text-align: right;\n",
       "    }\n",
       "</style>\n",
       "<table border=\"1\" class=\"dataframe\">\n",
       "  <thead>\n",
       "    <tr style=\"text-align: right;\">\n",
       "      <th></th>\n",
       "      <th>Unnamed: 0</th>\n",
       "      <th>Countries</th>\n",
       "      <th>Capital</th>\n",
       "      <th>Country code</th>\n",
       "    </tr>\n",
       "  </thead>\n",
       "  <tbody>\n",
       "    <tr>\n",
       "      <th>0</th>\n",
       "      <td>0</td>\n",
       "      <td>Canada</td>\n",
       "      <td>Ottawa</td>\n",
       "      <td>1</td>\n",
       "    </tr>\n",
       "    <tr>\n",
       "      <th>1</th>\n",
       "      <td>1</td>\n",
       "      <td>United States</td>\n",
       "      <td>Washington DC</td>\n",
       "      <td>1</td>\n",
       "    </tr>\n",
       "    <tr>\n",
       "      <th>2</th>\n",
       "      <td>2</td>\n",
       "      <td>United Kingdom</td>\n",
       "      <td>England</td>\n",
       "      <td>44</td>\n",
       "    </tr>\n",
       "    <tr>\n",
       "      <th>3</th>\n",
       "      <td>3</td>\n",
       "      <td>Nigeria</td>\n",
       "      <td>Abuja</td>\n",
       "      <td>234</td>\n",
       "    </tr>\n",
       "  </tbody>\n",
       "</table>\n",
       "</div>"
      ],
      "text/plain": [
       "   Unnamed: 0       Countries        Capital  Country code\n",
       "0           0          Canada         Ottawa             1\n",
       "1           1   United States  Washington DC             1\n",
       "2           2  United Kingdom        England            44\n",
       "3           3         Nigeria          Abuja           234"
      ]
     },
     "execution_count": 34,
     "metadata": {},
     "output_type": "execute_result"
    }
   ],
   "source": [
    "data = pd.read_csv('country.csv',  sep='\\t')\n",
    "\n",
    "data.drop_duplicates()"
   ]
  }
 ],
 "metadata": {
  "kernelspec": {
   "display_name": "Python 3.10.6 64-bit",
   "language": "python",
   "name": "python3"
  },
  "language_info": {
   "codemirror_mode": {
    "name": "ipython",
    "version": 3
   },
   "file_extension": ".py",
   "mimetype": "text/x-python",
   "name": "python",
   "nbconvert_exporter": "python",
   "pygments_lexer": "ipython3",
   "version": "3.10.6"
  },
  "orig_nbformat": 4,
  "vscode": {
   "interpreter": {
    "hash": "aee8b7b246df8f9039afb4144a1f6fd8d2ca17a180786b69acc140d282b71a49"
   }
  }
 },
 "nbformat": 4,
 "nbformat_minor": 2
}
